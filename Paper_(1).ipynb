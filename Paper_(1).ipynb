{
  "cells": [
    {
      "cell_type": "markdown",
      "metadata": {
        "id": "view-in-github",
        "colab_type": "text"
      },
      "source": [
        "<a href=\"https://colab.research.google.com/github/Aleksandrovna15/DAT-301/blob/main/Paper_(1).ipynb\" target=\"_parent\"><img src=\"https://colab.research.google.com/assets/colab-badge.svg\" alt=\"Open In Colab\"/></a>"
      ]
    },
    {
      "cell_type": "markdown",
      "metadata": {
        "id": "JKXzE7hGI9em"
      },
      "source": [
        "# DAT 301 Project 2 - Linear Regression"
      ]
    },
    {
      "cell_type": "markdown",
      "metadata": {
        "id": "xPt8ZOQw_Th1"
      },
      "source": [
        "## Introduction\n",
        "### Project Statement\n",
        "The goal of this project is to create a basic linear regression model based on a single important parameter, such as hours studied, to predict the students success. The dataset used for this project is sourced from Kaggle: Student Performance (Multiple Linear Regression). This study is relevant since it offers a straightforward but efficient instrument for academic performance prediction that can be readily understood and used. Machine learning models allow one to automate this procedure, hence improving efficiency, lowering bias, and increasing decision accuracy.\n",
        "\n",
        "Many factors can play in a student's academic success and isolating the hours studied can not give the most accurate predictions. However, studying is stereotypically more correlated to better results.\n",
        "\n",
        "### Linear Regression\n",
        "A statistical method for determining the linear relationship between a dependent variable and one or more independent variables is called linear regression. This method can be used to predict a continuous variable in supervised learning regression situations. Simple and multiple linear regression are the two subtypes of linear regression.\n",
        "\n",
        "**Simple linear regression** is a foundational statistical technique used to model the relationship between a dependent variable and a single independent variable. It is widely applied across various domains, including finance, economics, and social sciences, due to its simplicity and interpretability. According to the National Centre for Learning (NCL), simple linear regression aims to fit a straight line to the data, represented by the equation  \n",
        "\n",
        "$y=β0+β1x$  \n",
        "\n",
        "where  $y$  is the dependent variable,  $x$  is the independent variable,  $β0$  is the intercept, and  $β1$  is the slope of the line.\n",
        "\n",
        "This method is particularly useful for understanding and quantifying the linear relationship between two variables, making it a popular choice for predictive modeling tasks. This project will only have one independent variable and one dependent variable. Fitting a straight line to the data is the most basic type of linear regression.\n",
        "\n",
        "To simplify this concept even further, the relationship can be described by a line:\n",
        "\n",
        "$y = ax + b$\n",
        "\n",
        "where $a$ is $β1$ and $b$ is $β0$.\n",
        "\n",
        "Multiple linear regressions follow a similar methodology, but they include more than one coefficient. The model will still follow a linear pattern, but it will count multiple factors (independent variables) to calculate the result (dependent variable). The equation for a multiple linear regression model will be in the form $y=β0+β1x+β2x+β3x...$ where $y$ is the dependent variable and $x$ is the independent variable, $β0$ is the intercept, and $β1,β2,β3...$ are responsible for the slope of the line.\n",
        "\n",
        "### Linear Regression Assumptions\n",
        "\n",
        "While constructing a linear regression model, we need to keep in mind some assumptions that have to be taken into account.\n",
        "1. Linearity\n",
        "   *   The relationship between the independent and dependent variables is linear.\n",
        "   *   This simply means that any changes made to the independent variable is proportional to the dependent variable and vice versa.\n",
        "2. Homoscedasticity of Residuals\n",
        "   * Homoscedasticity is an assumption that states that the residuals, which are the differences between actual and estimated values, should have a constant variance overall. The spread of errors should be relatively uniform.\n",
        "3. Multivariate Normality\n",
        "   *   The residuals should be normally distributed when considering multiple predictors. This plays a crucial role when analyzing data statistics and shows the validity of the tests performed.\n",
        "4. Independence of Errors\n",
        "   *   It ensures that the residuals are not correlated with each other or in other words, the error of one observation does not influence the error of another observation.\n",
        "5. Lack of Multicollinearity\n",
        "   *   Multicollinearity is when two or more independent variables in the model are way too correlated, leading to possible replication of data. It can affect other statistics, making it harder to figure out the relationship between the independent and dependent variables.\n",
        "6. Absence of Endogeneity\n",
        "   *   Mainly applies to the multiple regression models. No endogeneity means that the independent variables in the regression model should not be correlated with the error term. Violating this assumption can cause bias in the coefficient estimates."
      ]
    },
    {
      "cell_type": "markdown",
      "metadata": {
        "id": "K0ef3VyT0ffY"
      },
      "source": [
        "## Math Method\n",
        "### Least Squares Method\n",
        "\n",
        "As we plot the data points on a plane, we need to figure out how we can find the **regression line** that represents our model. The goal is to get the line as close to the points as possible and divide the scatter plot in half, half of the data points on one side of the line and half on the other. This line will represent the relationship between the independent and the dependent variables.\n",
        "\n",
        "The least squares method helps us find the parameters of the regression line by calculating the error, the difference between the actual data point ($y_x$) and the point estimated by the regression line ($ŷ_x$), and thus, helping us find the line with the least amount of error. The amount of error in a line can be described by a function that we call the **Cost Function**.\n",
        "\n",
        "Since we are looking for a line that is relatively closest to all points, we need to look for a line with the least amount of error. We can minimize the error by calculating the residual, the distance between the actual $y$ value and the estimated $y$ value, using the formula denoted by $d_x$:\n",
        "\n",
        "$d_x = y_x - ŷ_x$\n",
        "\n",
        "where x is our independent variable.\n",
        "\n",
        "The Cost Function is the sum of all the residuals squared, hence, it describes the Least Squares Method. The reason why it is square is that the residuals can be negative, which would cancel out the positive residuals. If we consider this issue realistically, we simply can not have a negative distance. Thus, we square the residuals to cancel out the negatives. The function is described by the formula:\n",
        "\n",
        "$D = Ʃ(d_x)^2$\n",
        "\n",
        "Going back to our objective, using this formula, we can calculate the error of the line using all residuals and find the line of best fit, the regression line, so that the error is as small as possible.\n",
        "\n",
        "By minimizing the error, $D$, we can estimate the coefficients $β0$ and $β1$ of the regression line described by the equation:\n",
        "\n",
        "$y=β0+β1x$\n",
        "\n",
        "For this project, we will be calculating metrics such as R-squared and Root Mean Squared Error (RMSE) to evaluate the created model's performance."
      ]
    },
    {
      "cell_type": "markdown",
      "metadata": {
        "id": "sY6LHyDk0nw3"
      },
      "source": [
        "## Data\n",
        "\n"
      ]
    },
    {
      "cell_type": "markdown",
      "metadata": {
        "id": "A_E_HgBc59yH"
      },
      "source": [
        "### Importing the dataset\n",
        "The data for this project was taken from kaggle.com, which provides numerous public datasets. The chosen dataset for this specific project is the Student Performance (Multiple Linear Regression) dataset by Nikhil Narayan. This dataset has around 10,000 data points and contains many columns, factors, including hours studied, previous scores, extracurricular activities, sleep hours, sample question papers practiced, and performance index. In this case, the performance index is measured between 10 and 100 and can be closely described as test scores. For simplicity, we will be analyzing the correlation between the performance index (dependent variable) and hours studied (independent variable).\n",
        "\n",
        "**Kaggle link to the dataset:** https://www.kaggle.com/datasets/nikhil7280/student-performance-multiple-linear-regression/data\n",
        "\n",
        "Below, we are importing the dataset into the variable df, which we will also be analyzing further."
      ]
    },
    {
      "cell_type": "code",
      "execution_count": null,
      "metadata": {
        "id": "WUvBH5r50j2O"
      },
      "outputs": [],
      "source": [
        "import pandas as pd\n",
        "# Importing the dataset\n",
        "file_path = 'Student_Performance.csv'\n",
        "df = pd.read_csv(file_path, usecols=['Hours Studied', 'Performance Index'])"
      ]
    },
    {
      "cell_type": "markdown",
      "metadata": {
        "id": "BExeQ7qYMEo4"
      },
      "source": [
        "After we read the file, we store it as a file object using a pandas library function read_csv(). However, this function is not the only one in the pandas library. We can explore more attributes of a file object using other functions."
      ]
    },
    {
      "cell_type": "markdown",
      "metadata": {
        "id": "s-BwYSlqTseO"
      },
      "source": [
        "### pandas info()\n",
        "To start off, the info() function can display the basic description of our dataset."
      ]
    },
    {
      "cell_type": "code",
      "execution_count": null,
      "metadata": {
        "colab": {
          "base_uri": "https://localhost:8080/"
        },
        "id": "TJ1D1BszUBFK",
        "outputId": "10564721-2c59-4edf-c488-3c2bca4b698d"
      },
      "outputs": [
        {
          "name": "stdout",
          "output_type": "stream",
          "text": [
            "<class 'pandas.core.frame.DataFrame'>\n",
            "RangeIndex: 10000 entries, 0 to 9999\n",
            "Data columns (total 2 columns):\n",
            " #   Column             Non-Null Count  Dtype  \n",
            "---  ------             --------------  -----  \n",
            " 0   Hours Studied      10000 non-null  int64  \n",
            " 1   Performance Index  10000 non-null  float64\n",
            "dtypes: float64(1), int64(1)\n",
            "memory usage: 156.4 KB\n",
            "None\n"
          ]
        }
      ],
      "source": [
        "# display the characteristics of df\n",
        "print(df.info())"
      ]
    },
    {
      "cell_type": "markdown",
      "metadata": {
        "id": "7gZBDqBGTq_o"
      },
      "source": [
        "### pandas head()\n",
        "The head function simply accesses the file object and returns the first 5 rows of it. We can use print() to display it."
      ]
    },
    {
      "cell_type": "code",
      "execution_count": null,
      "metadata": {
        "colab": {
          "base_uri": "https://localhost:8080/"
        },
        "id": "r2x5jOyPNcsc",
        "outputId": "08de9e07-487c-4ab0-baa5-36862a8221f3"
      },
      "outputs": [
        {
          "name": "stdout",
          "output_type": "stream",
          "text": [
            "   Hours Studied  Performance Index\n",
            "0              7               91.0\n",
            "1              4               65.0\n",
            "2              8               45.0\n",
            "3              5               36.0\n",
            "4              7               66.0\n"
          ]
        }
      ],
      "source": [
        "# displaying first 5 rows of the file object\n",
        "print(df.head())"
      ]
    },
    {
      "cell_type": "markdown",
      "metadata": {
        "id": "mOSWGAlAQ9Sa"
      },
      "source": [
        "### pandas shape()\n",
        "This one displays the dimensions of the uploaded dataset."
      ]
    },
    {
      "cell_type": "code",
      "execution_count": null,
      "metadata": {
        "colab": {
          "base_uri": "https://localhost:8080/"
        },
        "id": "n3OwtlD_RG5e",
        "outputId": "fd0ac40c-3920-4028-b4a0-beb7c71ef8d7"
      },
      "outputs": [
        {
          "name": "stdout",
          "output_type": "stream",
          "text": [
            "(10000, 2)\n"
          ]
        }
      ],
      "source": [
        "# display the dimention of df\n",
        "print(df.shape)"
      ]
    },
    {
      "cell_type": "markdown",
      "metadata": {
        "id": "OklcxCXYRMe9"
      },
      "source": [
        "### Adding columns\n",
        "Using the attribute columns, we can better organize the dataset and add column names."
      ]
    },
    {
      "cell_type": "code",
      "execution_count": null,
      "metadata": {
        "id": "2BODU-E2RfBT"
      },
      "outputs": [],
      "source": [
        "# adding columns\n",
        "df.columns = ['Hours Studied', 'Performance Index']"
      ]
    },
    {
      "cell_type": "markdown",
      "metadata": {
        "id": "2h8gS6Y3R5WE"
      },
      "source": [
        "Now we can display and see the updated table."
      ]
    },
    {
      "cell_type": "code",
      "execution_count": null,
      "metadata": {
        "colab": {
          "base_uri": "https://localhost:8080/"
        },
        "id": "mGy1WoDsSDk5",
        "outputId": "e9351851-696d-47d0-95e3-76324771a416"
      },
      "outputs": [
        {
          "name": "stdout",
          "output_type": "stream",
          "text": [
            "   Hours Studied  Performance Index\n",
            "0              7               91.0\n",
            "1              4               65.0\n",
            "2              8               45.0\n",
            "3              5               36.0\n",
            "4              7               66.0\n"
          ]
        }
      ],
      "source": [
        "# print the first 5 rows of the updated table\n",
        "print(df.head())"
      ]
    },
    {
      "cell_type": "markdown",
      "metadata": {
        "id": "lyug411YUo6w"
      },
      "source": [
        "### pandas describe()\n",
        "Describe is similar to info except that it actually calculates some basic statistics of the data, like min, max, the mean, etc."
      ]
    },
    {
      "cell_type": "code",
      "execution_count": null,
      "metadata": {
        "colab": {
          "base_uri": "https://localhost:8080/"
        },
        "id": "8V64sgzXU6aS",
        "outputId": "d4dbc716-1101-4e7f-edc0-5d47262d236c"
      },
      "outputs": [
        {
          "name": "stdout",
          "output_type": "stream",
          "text": [
            "       Hours Studied  Performance Index\n",
            "count   10000.000000       10000.000000\n",
            "mean        4.992900          55.224800\n",
            "std         2.589309          19.212558\n",
            "min         1.000000          10.000000\n",
            "25%         3.000000          40.000000\n",
            "50%         5.000000          55.000000\n",
            "75%         7.000000          71.000000\n",
            "max         9.000000         100.000000\n"
          ]
        }
      ],
      "source": [
        "# display the description of df and basic statistics\n",
        "print(df.describe())"
      ]
    },
    {
      "cell_type": "markdown",
      "metadata": {
        "id": "w7kNeloV0k7K"
      },
      "source": [
        "## Implementation\n",
        "\n",
        "We will be implementing the methodology using some built-in Python Libraries\n",
        "*   Numpy: Which provides methods for fast calculations and needed data structures.\n",
        "*   pandas: Which helps with storage and data manipulation/ analysis.\n",
        "*   Matplotlib: Helps with basic plots and data formatting.\n",
        "*   Scikit - Learn: A machine learning library that helps us with regression models."
      ]
    },
    {
      "cell_type": "code",
      "execution_count": null,
      "metadata": {
        "id": "xxyx6lWqMqk9"
      },
      "outputs": [],
      "source": [
        "#importing the libraries\n",
        "import numpy as np\n",
        "import pandas as pd\n",
        "import matplotlib.pyplot as plt\n",
        "import matplotlib\n",
        "matplotlib.use('inline')                    #needed for future formatting"
      ]
    },
    {
      "cell_type": "markdown",
      "metadata": {
        "id": "wiW2Mrj0VYR3"
      },
      "source": [
        "## Variables\n",
        "As mentioned before, to create a proper correlation, the independent variable $x$ will be the hours studied, and the dependent variable $y$ will be the performance index.\n",
        "\n",
        "The reason is for better graph dimensions and to show that the students study, the higher their scores will be.\n",
        "\n",
        "The values attribute, using pandas, allows us to take the numerical values from the column and put them into a list."
      ]
    },
    {
      "cell_type": "code",
      "execution_count": null,
      "metadata": {
        "colab": {
          "base_uri": "https://localhost:8080/"
        },
        "id": "k-7D3PsCYhbE",
        "outputId": "455f022a-4863-4cb3-d909-82981bdc48e4"
      },
      "outputs": [
        {
          "name": "stdout",
          "output_type": "stream",
          "text": [
            "Hours Studied:  [7 4 8 ... 6 9 7]\n",
            "Performance Index:  [91. 65. 45. ... 74. 95. 64.]\n"
          ]
        }
      ],
      "source": [
        "# declare the variables and assign proper columns to them\n",
        "x = df['Hours Studied'].values\n",
        "y = df['Performance Index'].values\n",
        "\n",
        "print(\"Hours Studied: \", x)\n",
        "print(\"Performance Index: \", y)"
      ]
    },
    {
      "cell_type": "markdown",
      "metadata": {
        "id": "t-XvUCT7Zcdl"
      },
      "source": [
        "## Visualizing the data\n",
        "Using pandas and matplot functions, we can make a scatter plot of the dataset. We will be using the input variable/the independent variable in $x$ and the output variable/dependent variable in $y$ for our x and y axes, respectively."
      ]
    },
    {
      "cell_type": "code",
      "execution_count": null,
      "metadata": {
        "colab": {
          "base_uri": "https://localhost:8080/",
          "height": 487
        },
        "id": "6WLUQkTjgkQ6",
        "outputId": "a678e3cb-1dbd-4f18-cc05-576285234584"
      },
      "outputs": [
        {
          "data": {
            "image/png": "[encoded data removed]",
            "text/plain": [
              "<Figure size 640x480 with 1 Axes>"
            ]
          },
          "metadata": {},
          "output_type": "display_data"
        }
      ],
      "source": [
        "# plot the scatter plot\n",
        "plt.scatter(x, y, color = 'blue')\n",
        "plt.title('Relationship between Hours Studied and Performance Index')\n",
        "plt.xlabel('Hours Studied')\n",
        "plt.ylabel('Performance Index')\n",
        "plt.show()"
      ]
    },
    {
      "cell_type": "markdown",
      "metadata": {
        "id": "To5JmuILj-8B"
      },
      "source": [
        "### Dimentions of x and y\n",
        "Due to the fact that we are working with Scikit-Learn, we must check for dimensions of the lists x and y and edit them if needed."
      ]
    },
    {
      "cell_type": "code",
      "execution_count": null,
      "metadata": {
        "colab": {
          "base_uri": "https://localhost:8080/"
        },
        "id": "IEnycsG4kOVV",
        "outputId": "e6e9dc13-b6a8-4b9c-894b-1fad0aee97e5"
      },
      "outputs": [
        {
          "name": "stdout",
          "output_type": "stream",
          "text": [
            "(10000,)\n",
            "(10000,)\n"
          ]
        }
      ],
      "source": [
        "print(x.shape)\n",
        "print(y.shape)"
      ]
    },
    {
      "cell_type": "markdown",
      "metadata": {
        "id": "ByRsjW7skRto"
      },
      "source": [
        "From the check, we can see that each array is 10,000 items long. However, we will be working with matrices which means that we must have a height of 1 for the arrays for our math to work.\n",
        "\n",
        "To do that, we will be using reshape() function from Numpy to specify the dimensions of each array. Since -1 is considered \"unspecified\", the real dimensions will be recalculated accordingly."
      ]
    },
    {
      "cell_type": "code",
      "execution_count": null,
      "metadata": {
        "id": "FFo1A48Ek2UZ"
      },
      "outputs": [],
      "source": [
        "# reshape the arrays\n",
        "x = x.reshape(-1, 1)\n",
        "y = y.reshape(-1, 1)"
      ]
    },
    {
      "cell_type": "code",
      "execution_count": null,
      "metadata": {
        "colab": {
          "base_uri": "https://localhost:8080/"
        },
        "id": "iTGLMP33lS-R",
        "outputId": "a010eea4-c7bc-41ef-9984-cf3738125f5c"
      },
      "outputs": [
        {
          "name": "stdout",
          "output_type": "stream",
          "text": [
            "(10000, 1)\n",
            "(10000, 1)\n"
          ]
        }
      ],
      "source": [
        "# print the newly edited dimensions\n",
        "print(x.shape)\n",
        "print(y.shape)"
      ]
    },
    {
      "cell_type": "markdown",
      "metadata": {
        "id": "4kOROIdvl800"
      },
      "source": [
        "## Determining the testing sets\n",
        "We will be splitting the x and y sets into training and testing sets. The model will learn from one and test its knowledge using the other."
      ]
    },
    {
      "cell_type": "code",
      "execution_count": null,
      "metadata": {
        "id": "JYXjdzdLoM8G"
      },
      "outputs": [],
      "source": [
        "# splitting the two sets\n",
        "from sklearn.model_selection import train_test_split\n",
        "x_train, x_test, y_train, y_test = train_test_split(x, y, test_size=0.33, random_state=42)"
      ]
    },
    {
      "cell_type": "code",
      "execution_count": null,
      "metadata": {
        "colab": {
          "base_uri": "https://localhost:8080/"
        },
        "id": "DEcSjcnQAd7u",
        "outputId": "eb6498ee-2b55-4780-dc91-fc849403c14e"
      },
      "outputs": [
        {
          "name": "stdout",
          "output_type": "stream",
          "text": [
            "(6700, 1)\n",
            "(3300, 1)\n",
            "(6700, 1)\n",
            "(3300, 1)\n"
          ]
        }
      ],
      "source": [
        "# printing the dimensions of the sets\n",
        "print(x_train.shape)\n",
        "print(x_test.shape)\n",
        "print(y_train.shape)\n",
        "print(y_test.shape)"
      ]
    },
    {
      "cell_type": "markdown",
      "metadata": {
        "id": "knrNNMT6DceO"
      },
      "source": [
        "## Training the model\n",
        "Now that we have gotten our training and testing sets, we can start training the model.\n",
        "To do that, we will be using the sklearn library and specifically importing the Linear Regression model. We will train it using the fit() function and then use predict() to test it."
      ]
    },
    {
      "cell_type": "code",
      "execution_count": null,
      "metadata": {
        "id": "_yceQh-WEubW"
      },
      "outputs": [],
      "source": [
        "# import the Regression model\n",
        "from sklearn.linear_model import LinearRegression\n",
        "\n",
        "model = LinearRegression()\n",
        "model.fit(x_train, y_train)\n",
        "\n",
        "# predict the output using the model\n",
        "y_predict = model.predict(x_test)"
      ]
    },
    {
      "cell_type": "markdown",
      "metadata": {
        "id": "RqTi-imVFQrf"
      },
      "source": [
        "## Finding the regression line\n",
        "After training the model, we can find a and b of the regression line equation:\n",
        "\n",
        "$y = ax + b$ or $y=β0+β1x$  \n",
        "\n",
        "By accessing the attributes of the model, like coef_ and intercept_, we can now assemble the equation of the line. The coef_ will be our $β1$ and the intercept_ is $β0$."
      ]
    },
    {
      "cell_type": "code",
      "execution_count": null,
      "metadata": {
        "colab": {
          "base_uri": "https://localhost:8080/"
        },
        "id": "XNRRk8ogYrYG",
        "outputId": "36dbb3cd-b354-41c2-fa3d-7d5530ba0e6a"
      },
      "outputs": [
        {
          "name": "stdout",
          "output_type": "stream",
          "text": [
            "The intercept is:  [41.44177]\n",
            "The coefficient is:  [[2.79845429]]\n"
          ]
        }
      ],
      "source": [
        "b_0 = model.intercept_\n",
        "b_1 = model.coef_\n",
        "\n",
        "print(\"The intercept is: \", b_0)\n",
        "print(\"The coefficient is: \", b_1)"
      ]
    },
    {
      "cell_type": "markdown",
      "metadata": {
        "id": "5VyeDL2-aROn"
      },
      "source": [
        "Thus, the equation of the scatter plot is:\n",
        "\n",
        "$y = 41.44177 + 2.79845429x$"
      ]
    },
    {
      "cell_type": "markdown",
      "metadata": {
        "id": "--u5RFo1d2zV"
      },
      "source": [
        "The line equation provides an estimate of the relationship between the two variables. Thus, predictions can now be made."
      ]
    },
    {
      "cell_type": "markdown",
      "metadata": {
        "id": "ozk0AXU7fB7j"
      },
      "source": [
        "## Predicting the output\n",
        "To predict the points on the line, we can use predict(x) [start:end] where start and end signifies the range of points to predict."
      ]
    },
    {
      "cell_type": "code",
      "execution_count": null,
      "metadata": {
        "colab": {
          "base_uri": "https://localhost:8080/"
        },
        "id": "UXNhmN-3hlBS",
        "outputId": "222a6baa-8083-489c-91b5-ecb925b9c771"
      },
      "outputs": [
        {
          "data": {
            "text/plain": [
              "array([[61.03095006],\n",
              "       [52.63558718],\n",
              "       [63.82940436],\n",
              "       [55.43404148],\n",
              "       [61.03095006],\n",
              "       [49.83713289],\n",
              "       [61.03095006],\n",
              "       [63.82940436],\n",
              "       [55.43404148],\n",
              "       [52.63558718]])"
            ]
          },
          "execution_count": 18,
          "metadata": {},
          "output_type": "execute_result"
        }
      ],
      "source": [
        "# predicting the first 10 points\n",
        "model.predict(x)[0:10]"
      ]
    },
    {
      "cell_type": "markdown",
      "metadata": {
        "id": "wpjYdlePhxJB"
      },
      "source": [
        "Individual predictions are also possible by substituting a value into x."
      ]
    },
    {
      "cell_type": "markdown",
      "metadata": {
        "id": "zrYuSeqLj370"
      },
      "source": [
        "## Evaluating the model\n",
        "As mentioned before, to evaluate the performance of the model, we will be using the R2 score and RMSE.\n",
        "\n",
        "### R-Squared\n",
        "R-Squared, or R2, measures the proportion of variance in the dependent variable that can be explained by the independent variable. It also means that R2 measures how well the regression line fits the scatterplot. R2 is measured between 0 and 1."
      ]
    },
    {
      "cell_type": "code",
      "execution_count": null,
      "metadata": {
        "colab": {
          "base_uri": "https://localhost:8080/"
        },
        "id": "GWufRnNb6y-s",
        "outputId": "3ebc283d-6574-42bc-db21-42d973a9a6f4"
      },
      "outputs": [
        {
          "name": "stdout",
          "output_type": "stream",
          "text": [
            "R2 Score value: 0.1311\n"
          ]
        }
      ],
      "source": [
        "from sklearn.metrics import r2_score\n",
        "print (\"R2 Score value: {:.4f}\".format(r2_score(y_test, y_predict)))"
      ]
    },
    {
      "cell_type": "markdown",
      "metadata": {
        "id": "dekLC2ie8QWu"
      },
      "source": [
        "Since we can see that the correlation is rather small, that means that there is a correlation between teh two variables but its not very strong. However, we can be sure of that only by analyzing the regression line on the graph and other scores.\n",
        "\n",
        "We also must keep in mind that the data is ditributed in a form of bars made up of many data points. The bars range but the overall trend is positive meaning that there is definetly a correlation present."
      ]
    },
    {
      "cell_type": "markdown",
      "metadata": {
        "id": "tyy-l3PDLLtK"
      },
      "source": [
        "### RMSE\n",
        "The RMSE (root mean square error) measures the average difference between a statistical model's predicted values and the actual data values. It is the standard deviation of the residuals."
      ]
    },
    {
      "cell_type": "code",
      "execution_count": null,
      "metadata": {
        "colab": {
          "base_uri": "https://localhost:8080/"
        },
        "id": "IVncttp8NEA-",
        "outputId": "1658f091-fb15-4d95-a85a-7c2477ad8047"
      },
      "outputs": [
        {
          "name": "stdout",
          "output_type": "stream",
          "text": [
            "RMSE value: 17.9455\n"
          ]
        }
      ],
      "source": [
        "# calculating the rmse\n",
        "from sklearn.metrics import mean_squared_error\n",
        "mse = mean_squared_error(y_test, y_predict)\n",
        "rmse = np.sqrt(mse)\n",
        "print(\"RMSE value: {:.4f}\".format(rmse))"
      ]
    },
    {
      "cell_type": "markdown",
      "metadata": {
        "id": "eazUqSnJNMQc"
      },
      "source": [
        "In theory, the lower the RMSE, the lower the differences between the predicted values and the actual values, the better the fit of the line. As we can see, the RMSE of this model is a moderate number compared to our dependent variable range which signifies that the model might not be a good fit."
      ]
    },
    {
      "cell_type": "markdown",
      "metadata": {
        "id": "167AVRhTOUtp"
      },
      "source": [
        "## Plotting the regression line"
      ]
    },
    {
      "cell_type": "code",
      "execution_count": null,
      "metadata": {
        "colab": {
          "base_uri": "https://localhost:8080/",
          "height": 487
        },
        "id": "KW_lFE4xN6oz",
        "outputId": "e0e0b8f9-94fa-4c6f-e567-8c0954bbca9e"
      },
      "outputs": [
        {
          "data": {
            "image/png": "[encoded data removed]",
            "text/plain": [
              "<Figure size 640x480 with 1 Axes>"
            ]
          },
          "metadata": {},
          "output_type": "display_data"
        }
      ],
      "source": [
        "# Plotting the regression line\n",
        "\n",
        "plt.scatter(x, y, color = 'blue')\n",
        "plt.plot(x_test, y_predict, color = 'red', linewidth=3)\n",
        "plt.title('Relationship between Hours Studied and Performance Index')\n",
        "plt.xlabel('Hours Studied')\n",
        "plt.ylabel('Performance Index')\n",
        "plt.show()"
      ]
    },
    {
      "cell_type": "markdown",
      "metadata": {
        "id": "Z-8t6LfJOatg"
      },
      "source": [
        "## Conclusion\n",
        "As we can see from the plotted graph, there is very minimal correlation between the independent and the dependent variables. The line does show a positive correlation, but since the slope is very small, it doesn't necessarily show a strong correlation.\n",
        "\n",
        "### Interpreting R-Squared\n",
        "When R2 is negative, it shows that even when we used the correct data to train the model, it is inapplicable and should not be used. By increasing the size, we can train the model to be more accurate, which actually allows us to increase the values of R2.\n",
        "\n",
        "The reason why we build regression models is to test the correlation between the input and the output variables. Thus, we have a 50/50 chance that the variables will either be correlated or not. Ideally, a good model should have an R2 value of at least 0.7 however, there are exceptions to this rule. A good model can also have a very low R2 value, and a bad model can have a very high value. Thus, it is not the only indicator of success.\n",
        "\n",
        "Since R2 is 0.1311, it means the model is applicable, but the data is too distributed to have a strong relationship. It is generally a positive correlation, but we can definitely increase the number of data points to see if the R2 value increases, thus increasing the accuracy of the model.\n",
        "\n",
        "Due to the scatter plot distribution, it is also hard to say that it is a bad model since the data is too distributed. This signifies that the reason for such bad numbers might not be the model itself, but the lack of correlation between the two parameters."
      ]
    },
    {
      "cell_type": "markdown",
      "metadata": {
        "id": "_om0o7W_em-g"
      },
      "source": [
        "### Interpreting RMSE\n",
        "The value of RMSE that we found is 17.9455, which is a relatively high score. Due to the fact that the lower this value is, the less variance there is in the residuals, mathematically we can conclude that this regression model is, again, not very accurate.\n",
        "\n",
        "However, by looking at the distribution, we go back to the fact that is dataset is very distributed and doesn't seem to show a big correlation between the hours studied and the preformance index. Thus, there is bound to be a lot of variance between the residuals, the difference between the actual and the predicted points.\n",
        "\n",
        "We must also keep in mind the range of values we have. While the hours are rounded to the nearest integer, the performance index is still from 10 to 100. So, we can always say that although there is a correlation, hours studied is not the only indication of a student's success."
      ]
    },
    {
      "cell_type": "markdown",
      "metadata": {
        "id": "FicLkDuG0q6h"
      },
      "source": [
        "## References\n",
        "\n",
        "   i. https://www.geeksforgeeks.org/linear-regression-python-implementation/\n",
        "\n",
        "   ii. https://www.ncl.ac.uk/webtemplate/ask-assets/external/maths-resources/statistics/regression-and-correlation/simple-linear-regression.html\n",
        "\n",
        "   iii. https://www.kaggle.com/code/sudhirnl7/linear-regression-tutorial\n",
        "\n",
        "   iv. https://medium.com/@shuv.sdr/simple-linear-regression-in-python-a0069b325bf8\n",
        "\n",
        "   v. https://www.geeksforgeeks.org/assumptions-of-linear-regression/\n",
        "\n",
        "   vi. https://corporatefinanceinstitute.com/resources/data-science/r-squared/#:~:text=R%2DSquared%20(R%C2%B2%20or%20the,(the%20goodness%20of%20fit).\n",
        "\n",
        "   vii. https://statisticsbyjim.com/regression/root-mean-square-error-rmse/\n",
        "\n",
        "   viii. https://github.com/pb111/Simple-Linear-Regression-Project/blob/master/SLRProject.ipynb\n",
        "\n",
        "   "
      ]
    }
  ],
  "metadata": {
    "colab": {
      "provenance": [],
      "include_colab_link": true
    },
    "kernelspec": {
      "display_name": "Python 3 (ipykernel)",
      "language": "python",
      "name": "python3"
    },
    "language_info": {
      "codemirror_mode": {
        "name": "ipython",
        "version": 3
      },
      "file_extension": ".py",
      "mimetype": "text/x-python",
      "name": "python",
      "nbconvert_exporter": "python",
      "pygments_lexer": "ipython3",
      "version": "3.12.3"
    }
  },
  "nbformat": 4,
  "nbformat_minor": 0
}